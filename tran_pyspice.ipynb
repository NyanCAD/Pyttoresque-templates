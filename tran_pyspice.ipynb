{
 "cells": [
  {
   "cell_type": "code",
   "execution_count": null,
   "id": "012e791e-1ffa-4cb1-8ea7-ccd58d7006da",
   "metadata": {},
   "outputs": [],
   "source": [
    "from bokeh.io import push_notebook, show, output_notebook\n",
    "from bokeh.plotting import figure, show\n",
    "from bokeh.palettes import Colorblind\n",
    "from pyttoresque import netlist, simserver\n",
    "output_notebook()"
   ]
  },
  {
   "cell_type": "code",
   "execution_count": null,
   "id": "2ab1a8a0-2fd7-4e25-99ec-a8266dc3383a",
   "metadata": {},
   "outputs": [],
   "source": [
    "# Configuration\n",
    "name = \"top$top\"\n",
    "outputs = [\"in\", \"out\"]\n",
    "tstep = 3e-6\n",
    "tstop = 1e-3\n",
    "tstart = 0"
   ]
  },
  {
   "cell_type": "code",
   "execution_count": null,
   "id": "d9ec643a-df1c-4854-9139-95de9fdfd2d6",
   "metadata": {},
   "outputs": [],
   "source": [
    "m = netlist.Modeldict()\n",
    "seq, schem = netlist.get_all_schem_docs(name)\n",
    "spice = netlist.spice_netlist(name, schem, m)\n",
    "print(spice)"
   ]
  },
  {
   "cell_type": "code",
   "execution_count": null,
   "id": "2ad70e5d-f530-43ae-a03b-cdde84326536",
   "metadata": {},
   "outputs": [],
   "source": [
    "import PySpice.Logging.Logging as Logging\n",
    "logger = Logging.setup_logging()\n",
    "from PySpice.Spice.NgSpice.Shared import NgSpiceShared\n",
    "ngspice = NgSpiceShared.new_instance()\n",
    "ngspice.load_circuit(spice)\n",
    "print(ngspice.exec_command(\"tran 1u 1m 0\"))\n",
    "tran = ngspice.plot(simulation=None, plot_name=ngspice.last_plot)"
   ]
  },
  {
   "cell_type": "code",
   "execution_count": null,
   "id": "0f555e5b-ea8d-4f1e-8888-7b0735f6f1e6",
   "metadata": {},
   "outputs": [],
   "source": [
    "plot = figure(title=\"my sine wave\", output_backend=\"webgl\")\n",
    "\n",
    "for  o, c in zip(outputs, Colorblind[8]):\n",
    "    plot.line(tran['time'].to_waveform(), tran[o].to_waveform(), color=c)\n",
    "\n",
    "target = show(plot, notebook_handle=True)"
   ]
  }
 ],
 "metadata": {
  "kernelspec": {
   "display_name": "Python 3",
   "language": "python",
   "name": "python3"
  },
  "language_info": {
   "codemirror_mode": {
    "name": "ipython",
    "version": 3
   },
   "file_extension": ".py",
   "mimetype": "text/x-python",
   "name": "python",
   "nbconvert_exporter": "python",
   "pygments_lexer": "ipython3",
   "version": "3.9.9"
  }
 },
 "nbformat": 4,
 "nbformat_minor": 5
}
